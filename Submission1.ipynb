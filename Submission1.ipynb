{
 "cells": [
  {
   "cell_type": "markdown",
   "metadata": {},
   "source": [
    "# Capstone Project - The Battle of Neighborhoods (First Week / Course Week 4)"
   ]
  },
  {
   "cell_type": "markdown",
   "metadata": {},
   "source": [
    "Instructions:\n",
    "**For this week** **(ONLY)**, you will require to submit the following;\n",
    "1.\tA description of the problem and a discussion of the background. (15 marks)\n",
    "2.\tA description of the data and how it will be used to solve the problem. (15 marks)\n",
    "\n",
    "Submission:\n",
    "\n",
    "1.\tClearly define a problem or an idea of your choice, where you would need to leverage the Foursquare location data to solve or execute. Remember that data science problems always target an audience and are meant to help a group of stakeholders solve a problem, so make sure that you explicitly describe your audience and why they would care about your problem.\n",
    "This submission will eventually become your Introduction/Business Problem section in your final report. So I recommend that you push the report **(having your Introduction/Business Problem section ONLY for now)** to your Github repository and submit a link to it.\n",
    "\n",
    "2.\tDescribe the data that you will be using to solve the problem or execute your idea. Remember that you will need to use the Foursquare location data to solve the problem or execute your idea. You can absolutely use other datasets in combination with the Foursquare location data. So make sure that you provide adequate explanation and discussion, with examples, of the data that you will be using, even if it is only Foursquare location data.\n",
    "This submission will eventually become your Data section in your final report. So I recommend that you push the report **(having your Data section)** to your Github repository and submit a link to it."
   ]
  },
  {
   "cell_type": "markdown",
   "metadata": {},
   "source": [
    "## TABLE OF CONTENTS"
   ]
  },
  {
   "cell_type": "markdown",
   "metadata": {},
   "source": [
    "This **Table of Content** is the first section, and will be proof edit for the final deliverable. For now and per course instructions and submission above, it will only show **Introduction/Business Problem and Data Section.** This is intended primarily for the **First Week / Course Week 4.**\n",
    "* [Introduction: Business Problem](#introduction) \n",
    "* [Data](#data)\n",
    "<br>\n",
    "<br>"
   ]
  },
  {
   "cell_type": "markdown",
   "metadata": {},
   "source": [
    "Here is a preview of the final deliverable Table of Content. This is to be shown on another Notebook for the Second Week / Course Week 5.\n",
    "#### TABLE OF CONTENTS"
   ]
  },
  {
   "cell_type": "markdown",
   "metadata": {},
   "source": [
    "* [Introduction: Business Problem](#introduction) \n",
    "* [Data](#data)\n",
    "* [Methodology](#methodology)\n",
    "* [Analysis](#analysis)\n",
    "* [Results and Discussion](#results)\n",
    "* [Conclusion](#conclusion)\n",
    "<br>\n",
    "<br>\n",
    "<br>\n",
    "<br>"
   ]
  },
  {
   "cell_type": "markdown",
   "metadata": {},
   "source": [
    "## Introduction: Business Problem <a name=\"introduction\"></a>"
   ]
  },
  {
   "cell_type": "markdown",
   "metadata": {},
   "source": [
    "This is the **Introduction** section and will be proof edit as part of the final deliverable. For this Notebook **(First Week / Course Week 4)**, we will introduce the data science problem."
   ]
  },
  {
   "cell_type": "markdown",
   "metadata": {},
   "source": [
    "**Description of the problem:**\n",
    "  \n",
    "  For this data science problem, we will explore on how a \"Restaurant Guide App\" improve consumer experience by answering the question;\n",
    "  Does the two-factor (Rating and Price) approach sufficient to recommend a venue ?\n",
    "\n",
    "**Target audience description:**\n",
    "\n",
    "  To help a group of stakeholders further solve the problem, we will address \"Cuisine Connoisseurs, Food Enthusiast and Bloggers\" who constantly use restaurant guide app for ease of use.\n",
    "  \n",
    "**Discussion on why our Target audience care about the problem:**\n",
    " \n",
    " Everything today is accessible by means of smart phones. In the food industry, Cuisine Connoisseurs, Food Enthusiast and Bloggers wants a quick easy way to access venue information. They often want straightforward details without the hassle of too much unnecessary data to influence their decision. Now, how do we improve these experience? Why should they care about the two-factor approach in this data science problem? - The minimalistic comparison data use, which is combining Rating and Price will give our targeted audience better insight in finding great budget-friendly restaurants in downtown areas.\n",
    "<br>\n",
    "<br>"
   ]
  },
  {
   "cell_type": "markdown",
   "metadata": {},
   "source": [
    "## Data Section <a name=\"data\"></a>"
   ]
  },
  {
   "cell_type": "markdown",
   "metadata": {},
   "source": [
    "This is the data section and will be proof edit as part of the final deliverable. For this Notebook **(First Week / Course Week 4)**, we will describe the data used and leverage **Foursquare location**. The code for our Data Section is shown on a separate Notebook with different link (please see submission #2)."
   ]
  },
  {
   "cell_type": "markdown",
   "metadata": {},
   "source": [
    "**Description of the data:** \n",
    "\n",
    "  The data sets generated in this **Data Section** is to provide insights on our proposed problem. We will focus mainly on Downtown Toronto. First, we will get the Latitude and Longitude value of our approximate defined center, which is the downtown area. We then define a query to search within our desired range and limit for restaurant venues using Foursquare API. Respectively, by making calls to the API, we can get the Restaurant Rating and Price. Using Folium plotting library we can visualize our map of the downtown area.\n",
    "\n",
    "**Other datasets in combination with the Foursquare location data:**\n",
    "\n",
    "  We will enter coordinates generated from the API for our downtown area to google maps. In doing so, we can pinpoint an address for our approximate defined center and further test venue location accuracy and other information. Also, in combination with Foursquare location data, a 'csv file' that depict Rating and Price will be created from the dataset results.\n",
    "\n",
    "**Examples of the data:**\n",
    "\n",
    "* Foursquare Credentials and Version\n",
    "* The geograpical coordinate of Downtown Toronto are 43.6563221, -79.3809161.\n",
    "* The specific venue category : radius = 500; limit = 10\n",
    "* JSON file for our dataframe\n",
    "* Venues_map using folium.Map\n",
    "* Restaurants IDs using https://api.foursquare.com/v2/venues\n",
    "\n",
    "**Using Data to solve the problem:**\n",
    "  \n",
    "  With the generated Data, we can make selection of existing restaurant in any category. The map visualization will be use to show the distance of the restaurants within the neighborhood. Part of the JSON file is significant in examining our calls to Foursquare API and to transform our dataframe for analysis. Relatively, making calls to Foursquare location data will get our given values to make our comparison. Eventually, this dataset results will help us solve the question if our two-factor (Rating and Price) approach sufficient to recommend a venue.  "
   ]
  }
 ],
 "metadata": {
  "kernelspec": {
   "display_name": "Python",
   "language": "python",
   "name": "conda-env-python-py"
  },
  "language_info": {
   "codemirror_mode": {
    "name": "ipython",
    "version": 3
   },
   "file_extension": ".py",
   "mimetype": "text/x-python",
   "name": "python",
   "nbconvert_exporter": "python",
   "pygments_lexer": "ipython3",
   "version": "3.6.7"
  }
 },
 "nbformat": 4,
 "nbformat_minor": 4
}
